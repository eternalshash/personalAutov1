{
 "cells": [
  {
   "cell_type": "markdown",
   "metadata": {},
   "source": [
    "Will format up documentation as code is made\n",
    "\n",
    "This notebook will focus on setting up the application and then working towards automizing everything \n",
    "The goal of this notebook is to create the automation pipeline "
   ]
  },
  {
   "cell_type": "code",
   "execution_count": 96,
   "metadata": {},
   "outputs": [],
   "source": [
    "# if needed run \n",
    "# pip install PyGitHub"
   ]
  },
  {
   "cell_type": "code",
   "execution_count": 97,
   "metadata": {},
   "outputs": [],
   "source": [
    "# Import statements:\n",
    "\n",
    "import os \n",
    "from github import Github\n",
    "\n",
    "\n",
    "#DO NOT PUT SECRECT IN "
   ]
  },
  {
   "cell_type": "code",
   "execution_count": null,
   "metadata": {},
   "outputs": [],
   "source": []
  },
  {
   "cell_type": "code",
   "execution_count": 98,
   "metadata": {},
   "outputs": [
    {
     "name": "stdout",
     "output_type": "stream",
     "text": [
      "Connected to GitHub repo successfully!\n"
     ]
    }
   ],
   "source": [
    "\n",
    "GITHUB_TOKEN = os.getenv(\"GITHUB_TOKEN\")  # Fetch token from environment variable\n",
    "if not GITHUB_TOKEN:\n",
    "    raise ValueError(\"GitHub token is missing. Set it as an environment variable.\")\n",
    "\n",
    "g = Github(GITHUB_TOKEN)\n",
    "repo = g.get_repo(\"eternalshash/personalAutov1\")\n",
    "print(\"Connected to GitHub repo successfully!\")\n"
   ]
  },
  {
   "cell_type": "code",
   "execution_count": null,
   "metadata": {},
   "outputs": [],
   "source": []
  },
  {
   "cell_type": "code",
   "execution_count": null,
   "metadata": {},
   "outputs": [],
   "source": []
  }
 ],
 "metadata": {
  "kernelspec": {
   "display_name": "base",
   "language": "python",
   "name": "python3"
  },
  "language_info": {
   "codemirror_mode": {
    "name": "ipython",
    "version": 3
   },
   "file_extension": ".py",
   "mimetype": "text/x-python",
   "name": "python",
   "nbconvert_exporter": "python",
   "pygments_lexer": "ipython3",
   "version": "3.11.5"
  }
 },
 "nbformat": 4,
 "nbformat_minor": 2
}
