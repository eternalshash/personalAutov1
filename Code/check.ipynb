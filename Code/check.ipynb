{
 "cells": [
  {
   "cell_type": "markdown",
   "metadata": {},
   "source": [
    "Will format up documentation as code is made\n",
    "\n",
    "This notebook will focus on setting up the application and then working towards automizing everything \n",
    "The goal of this notebook is to create the automation pipeline "
   ]
  },
  {
   "cell_type": "code",
   "execution_count": 13,
   "metadata": {},
   "outputs": [],
   "source": [
    "# if needed run \n",
    "# pip install PyGitHub"
   ]
  },
  {
   "cell_type": "code",
   "execution_count": 14,
   "metadata": {},
   "outputs": [],
   "source": [
    "# Import statements:\n",
    "import os \n",
    "from github import Github\n",
    "#DO NOT PUT SECRECT IN "
   ]
  },
  {
   "cell_type": "code",
   "execution_count": null,
   "metadata": {},
   "outputs": [
    {
     "ename": "ValueError",
     "evalue": "GitHub token is missing. Set it as an environment variable.",
     "output_type": "error",
     "traceback": [
      "\u001b[0;31m---------------------------------------------------------------------------\u001b[0m",
      "\u001b[0;31mValueError\u001b[0m                                Traceback (most recent call last)",
      "Cell \u001b[0;32mIn[15], line 3\u001b[0m\n\u001b[1;32m      1\u001b[0m GITHUB_TOKEN \u001b[38;5;241m=\u001b[39m os\u001b[38;5;241m.\u001b[39mgetenv(\u001b[38;5;124m\"\u001b[39m\u001b[38;5;124mGITHUB_TOKEN\u001b[39m\u001b[38;5;124m\"\u001b[39m)  \u001b[38;5;66;03m# Fetch token from environment variable\u001b[39;00m\n\u001b[1;32m      2\u001b[0m \u001b[38;5;28;01mif\u001b[39;00m \u001b[38;5;129;01mnot\u001b[39;00m GITHUB_TOKEN:\n\u001b[0;32m----> 3\u001b[0m     \u001b[38;5;28;01mraise\u001b[39;00m \u001b[38;5;167;01mValueError\u001b[39;00m(\u001b[38;5;124m\"\u001b[39m\u001b[38;5;124mGitHub token is missing. Set it as an environment variable.\u001b[39m\u001b[38;5;124m\"\u001b[39m)\n\u001b[1;32m      5\u001b[0m g \u001b[38;5;241m=\u001b[39m Github(GITHUB_TOKEN)\n\u001b[1;32m      6\u001b[0m repo \u001b[38;5;241m=\u001b[39m g\u001b[38;5;241m.\u001b[39mget_repo(\u001b[38;5;124m\"\u001b[39m\u001b[38;5;124meternalshash/personalAutov1\u001b[39m\u001b[38;5;124m\"\u001b[39m)\n",
      "\u001b[0;31mValueError\u001b[0m: GitHub token is missing. Set it as an environment variable."
     ]
    }
   ],
   "source": [
    "'''\n",
    "GITHUB_TOKEN = os.getenv(\"GITHUB_TOKEN\")  # Fetch token from environment variable\n",
    "if not GITHUB_TOKEN:\n",
    "    raise ValueError(\"GitHub token is missing. Set it as an environment variable.\")\n",
    "\n",
    "g = Github(GITHUB_TOKEN)\n",
    "repo = g.get_repo(\"eternalshash/personalAutov1\")\n",
    "print(\"Connected to GitHub repo successfully!\")\n",
    "\n",
    "'''\n"
   ]
  },
  {
   "cell_type": "code",
   "execution_count": null,
   "metadata": {},
   "outputs": [],
   "source": []
  },
  {
   "cell_type": "code",
   "execution_count": null,
   "metadata": {},
   "outputs": [],
   "source": []
  }
 ],
 "metadata": {
  "kernelspec": {
   "display_name": "base",
   "language": "python",
   "name": "python3"
  },
  "language_info": {
   "codemirror_mode": {
    "name": "ipython",
    "version": 3
   },
   "file_extension": ".py",
   "mimetype": "text/x-python",
   "name": "python",
   "nbconvert_exporter": "python",
   "pygments_lexer": "ipython3",
   "version": "3.11.5"
  }
 },
 "nbformat": 4,
 "nbformat_minor": 2
}
